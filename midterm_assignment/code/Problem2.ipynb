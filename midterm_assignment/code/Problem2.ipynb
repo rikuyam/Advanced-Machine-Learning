{
  "nbformat": 4,
  "nbformat_minor": 0,
  "metadata": {
    "colab": {
      "name": "Problem2.ipynb",
      "provenance": [],
      "collapsed_sections": []
    },
    "kernelspec": {
      "name": "python3",
      "display_name": "Python 3"
    },
    "language_info": {
      "name": "python"
    }
  },
  "cells": [
    {
      "cell_type": "code",
      "metadata": {
        "colab": {
          "base_uri": "https://localhost:8080/"
        },
        "id": "Fszi0QRnYdIf",
        "outputId": "6d88a821-2b35-4da1-9b7a-e0c8e8792040"
      },
      "source": [
        "from google.colab import drive\n",
        "drive.mount('/content/drive')"
      ],
      "execution_count": null,
      "outputs": [
        {
          "output_type": "stream",
          "text": [
            "Drive already mounted at /content/drive; to attempt to forcibly remount, call drive.mount(\"/content/drive\", force_remount=True).\n"
          ],
          "name": "stdout"
        }
      ]
    },
    {
      "cell_type": "code",
      "metadata": {
        "id": "WSWmyj7gnEmI"
      },
      "source": [
        "import matplotlib.pyplot as plt\n",
        "import numpy as np\n",
        "path =  \"/content/drive/MyDrive/Colab Notebooks/midterm-assignment/\""
      ],
      "execution_count": null,
      "outputs": []
    },
    {
      "cell_type": "markdown",
      "metadata": {
        "id": "fNnCpzd_mOzO"
      },
      "source": [
        "#Problem2\n",
        "We consider lasso, where the square loss, and the L1 regularization are employed for linear regres- sion. In this problem, we employ proximal gradient method (PG). So as to make the discussion simple, we use the following objective:\n",
        "\n",
        "wˆ=argminw((w−μ)⊤A(w−μ)+λ||w||1)\n",
        "\n",
        "Implement PG for lasso and show the results in a couple of conditions. In this question, use the same learning rate ηt = L−1, where L depicts the Lipsitz constant of the gradient of the objective, which is derived from the Hessian matrix 2A (i.e. use the maximum eigen value of 2A as the inverse of the learning rate: η−1).\n",
        "\n",
        "線形回帰のために二乗損失とL1正則化を採用したlassoを考える。この問題ではproximal gradient method (PG)を採用する。議論を簡単にするために、以下の目的を使用する。\n",
        "()\n",
        "wˆ=argmin (w-μ)⊤A(w-μ)+λ||w||1 . w\n",
        "lassoのPGを実装し、いくつかの条件で結果を示す。この問題では、同じ学習率ηt = L-1を使用する。ここで、Lは目的の勾配のリプシッツ定数を表し、それはヘシアン行列2Aから導かれる（すなわち、2Aの最大固有値を学習率の逆数：η-1として使用する）。\n",
        "1. PGの結果を、||w(t) - wˆ|| w.r.t. at the number of iterationで示しなさい。半ログプロットを用いる。以下の条件を用いる。\n",
        "A= (3 0.5; 0.5 1) ,μ=(1; 2)\n",
        "L1正則化の特性を検証するために、λ = 2, 4, 6で実験を行います。数値結果は、講義で使用したスライドに記載されていることを思い出してください。また、cvx (matlab) / cvxopt (python) を使って結果を確認することもできます。\n"
      ]
    },
    {
      "cell_type": "code",
      "metadata": {
        "id": "Ra3VJn0mZ0SX"
      },
      "source": [
        "A = np.array([[3, 0.5],[0.5,1]])\n",
        "h = 1/np.linalg.eigvals(2*A).max()\n",
        "u = np.array([[1,2]],dtype=np.float128).T\n",
        "d = 2\n",
        "w = np.array([[3,-1]],dtype=np.float128).T\n",
        "\n",
        "def f(w):\n",
        "    return ((w-u).T@A@(w-u))[0,0]\n",
        "\n",
        "def g(w):\n",
        "    return l*np.abs(w).sum()\n",
        "\n",
        "def df(w):\n",
        "    return 2*A@(w-u)\n",
        "\n",
        "def f_hat(x,y,h):\n",
        "    return f(y)+df(y).T@(x-y)+1/(2*h)(x-y).T@(x-y)\n",
        "\n",
        "def prox(x,l):\n",
        "    ret = np.zeros((d,1),dtype=np.float128)\n",
        "    for i in range(d):\n",
        "        if x[i] > l*h:\n",
        "            ret[i] = x[i] - l*h\n",
        "        if x[i] < -l*h:\n",
        "            ret[i] = x[i] + l*h\n",
        "    return ret\n",
        "\n",
        "def PG(A,l):\n",
        "    ws = np.zeros((2,100),dtype=np.float128)\n",
        "    w = np.array([[3,-1]],dtype=np.float128).T\n",
        "\n",
        "    h = 1/np.linalg.eigvals(2*A.astype(np.float)).max()\n",
        "    for i in range(100):\n",
        "        ws[:,i] = w.ravel()\n",
        "        w = prox(w-h*df(w),l)\n",
        "\n",
        "    return w,ws"
      ],
      "execution_count": null,
      "outputs": []
    },
    {
      "cell_type": "code",
      "metadata": {
        "colab": {
          "base_uri": "https://localhost:8080/",
          "height": 278
        },
        "id": "q56vvs3NkzNw",
        "outputId": "eb17c316-b192-47fd-be69-4a194d22f92b"
      },
      "source": [
        "A = np.array([[3, 0.5],[0.5,1]],dtype=np.float128)\n",
        "\n",
        "for l in [2,4,6]:\n",
        "    w,ws = PG(A,l)\n",
        "    plt.plot(np.arange(1,101),np.sqrt((ws[0,:]-ws[0,-1])**2+(ws[1,:]-ws[1,-1])**2),marker=\".\",label=\"$\\lambda = {}$\".format(l))\n",
        "\n",
        "plt.yscale(\"log\")\n",
        "plt.xlabel(\"iteration\")\n",
        "plt.ylabel(r\"$||w^{(t)}-w||$\")\n",
        "plt.legend()\n",
        "plt.xlim((0,50))\n",
        "plt.ylim((1e-8,1e+1))\n",
        "plt.savefig(path+\"2.png\")\n",
        "plt.show()\n"
      ],
      "execution_count": 59,
      "outputs": [
        {
          "output_type": "display_data",
          "data": {
            "image/png": "[encoded data removed]",
            "text/plain": [
              "<Figure size 432x288 with 1 Axes>"
            ]
          },
          "metadata": {
            "tags": [],
            "needs_background": "light"
          }
        }
      ]
    }
  ]
}